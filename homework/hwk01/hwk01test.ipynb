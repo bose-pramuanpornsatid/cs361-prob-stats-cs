{
 "cells": [
  {
   "cell_type": "code",
   "execution_count": 1,
   "metadata": {},
   "outputs": [],
   "source": [
    "import pandas as pd"
   ]
  },
  {
   "cell_type": "markdown",
   "metadata": {},
   "source": [
    "## Q3\n",
    "Show that mean $mean({kx})=k*mean({x})$ by substituting into the definition."
   ]
  },
  {
   "cell_type": "code",
   "execution_count": 7,
   "metadata": {},
   "outputs": [
    {
     "name": "stdout",
     "output_type": "stream",
     "text": [
      "Cost      461.560313\n",
      "Mwatts    825.375000\n",
      "Date       68.581250\n",
      "dtype: float64\n"
     ]
    }
   ],
   "source": [
    "power = pd.read_csv('./q3.csv', names=['Cost', 'Mwatts', 'Date'], sep=',', header=0, index_col=False)\n",
    "print(power.mean(axis=0))"
   ]
  },
  {
   "cell_type": "code",
   "execution_count": 3,
   "metadata": {},
   "outputs": [
    {
     "name": "stdout",
     "output_type": "stream",
     "text": [
      "Cost      2307.801562\n",
      "Mwatts    4126.875000\n",
      "Date       342.906250\n",
      "dtype: float64\n"
     ]
    }
   ],
   "source": [
    "power *= 5\n",
    "print(power.mean(axis=0))"
   ]
  },
  {
   "cell_type": "markdown",
   "metadata": {},
   "source": [
    "# Q4\n",
    "Show that $mean({x+c})=mean({x})+c$ by substituting into the definition."
   ]
  },
  {
   "cell_type": "code",
   "execution_count": 19,
   "metadata": {},
   "outputs": [
    {
     "name": "stdout",
     "output_type": "stream",
     "text": [
      "Calories    145.444444\n",
      "Sodium      424.833333\n",
      "dtype: float64\n"
     ]
    }
   ],
   "source": [
    "food = pd.read_csv('./q4.csv', names=['Type', 'Calories', 'Sodium'], sep=',', header=0, index_col=False)\n",
    "food = food[['Calories', 'Sodium']]\n",
    "print(food.mean(axis=0))"
   ]
  },
  {
   "cell_type": "code",
   "execution_count": 20,
   "metadata": {},
   "outputs": [
    {
     "name": "stdout",
     "output_type": "stream",
     "text": [
      "Calories    506.444444\n",
      "Sodium      785.833333\n",
      "dtype: float64\n"
     ]
    }
   ],
   "source": [
    "food += 361\n",
    "print(food.mean(axis=0))"
   ]
  },
  {
   "cell_type": "markdown",
   "metadata": {},
   "source": [
    "# Q5\n",
    "Show that $\\sum^{N}_{i=1}(x_i-mean({x})=0$ by substituting into the definition"
   ]
  },
  {
   "cell_type": "markdown",
   "metadata": {},
   "source": []
  }
 ],
 "metadata": {
  "kernelspec": {
   "display_name": "MATH257",
   "language": "python",
   "name": "python3"
  },
  "language_info": {
   "codemirror_mode": {
    "name": "ipython",
    "version": 3
   },
   "file_extension": ".py",
   "mimetype": "text/x-python",
   "name": "python",
   "nbconvert_exporter": "python",
   "pygments_lexer": "ipython3",
   "version": "3.10.9"
  },
  "orig_nbformat": 4
 },
 "nbformat": 4,
 "nbformat_minor": 2
}
